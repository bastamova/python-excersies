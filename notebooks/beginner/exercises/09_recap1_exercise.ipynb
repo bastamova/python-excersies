{
 "cells": [
  {
   "cell_type": "markdown",
   "metadata": {},
   "source": [
    "# 1. Super vowels\n",
    "Implement `super_vowels` function which takes a string as an argument and returns a modified version of that string. In the return value of `super_vowels`, all vowels should be in upper case whereas all consonants should be in lower case. The vowels are listed in the `VOWELS` variable."
   ]
  },
  {
   "cell_type": "code",
   "execution_count": 22,
   "metadata": {
    "editable": false
   },
   "outputs": [],
   "source": [
    "VOWELS = [\"a\", \"e\", \"i\", \"o\", \"u\"]"
   ]
  },
  {
   "cell_type": "code",
   "execution_count": 30,
   "metadata": {},
   "outputs": [
    {
     "name": "stdout",
     "output_type": "stream",
     "text": [
      "hOw ArE yOU?\n"
     ]
    }
   ],
   "source": [
    "# Your implementation here\n",
    "def super_vowels(a):\n",
    "    super_text=[]\n",
    "    for i in range(len(a)):\n",
    "        if a[i].lower() in VOWELS:\n",
    "            super_text+=a[i].upper()\n",
    "        else: super_text+=a[i].lower()\n",
    "    return ''.join(super_text)\n",
    " \n",
    "print (super_vowels(\"HOw aRE You?\"))"
   ]
  },
  {
   "cell_type": "code",
   "execution_count": 31,
   "metadata": {
    "editable": false
   },
   "outputs": [],
   "source": [
    "assert super_vowels(\"hi wassup!\") == \"hI wAssUp!\"\n",
    "assert super_vowels(\"HOw aRE You?\") == \"hOw ArE yOU?\""
   ]
  },
  {
   "cell_type": "markdown",
   "metadata": {},
   "source": [
    "# 2. Playing board\n",
    "Implement `get_playing_board` function which takes an integer as an argument. The function should return a string which resemples a playing board (e.g. a chess board). The board should contain as many rows and columns as requested by the interger argument. See the cell below for examples of desired behavior.\n"
   ]
  },
  {
   "cell_type": "code",
   "execution_count": 85,
   "metadata": {},
   "outputs": [],
   "source": [
    "# Your implementation here\n",
    "def get_playing_board(num):\n",
    "     board = []\n",
    "     a, b = ['*'], [' ']\n",
    "     for i in range(num-1):\n",
    "        if a[-1] == '*' and len(b) < num:\n",
    "            a += [' ']\n",
    "        else: a += ['*']\n",
    "     for i in range(num-1):\n",
    "        if b[-1] == '*' and len(b) < num:\n",
    "            b += [' ']\n",
    "        else:b += ['*']\n",
    "     for i in range(num-1):\n",
    "        board += [b]\n",
    "        board += [a]\n",
    "        \n",
    "     for i in range(num):\n",
    "         print(''.join(board[i]))"
   ]
  },
  {
   "cell_type": "code",
   "execution_count": 86,
   "metadata": {
    "editable": false
   },
   "outputs": [
    {
     "name": "stdout",
     "output_type": "stream",
     "text": [
      " * * \n",
      "* * *\n",
      " * * \n",
      "* * *\n",
      " * * \n"
     ]
    },
    {
     "ename": "AssertionError",
     "evalue": "",
     "output_type": "error",
     "traceback": [
      "\u001b[0;31m---------------------------------------------------------------------------\u001b[0m",
      "\u001b[0;31mAssertionError\u001b[0m                            Traceback (most recent call last)",
      "Cell \u001b[0;32mIn[86], line 16\u001b[0m\n\u001b[1;32m      1\u001b[0m board_of_5 \u001b[38;5;241m=\u001b[39m \u001b[38;5;124m\"\u001b[39m\u001b[38;5;124m * * \u001b[39m\u001b[38;5;130;01m\\n\u001b[39;00m\u001b[38;5;124m\"\u001b[39m \u001b[38;5;124m\"\u001b[39m\u001b[38;5;124m* * *\u001b[39m\u001b[38;5;130;01m\\n\u001b[39;00m\u001b[38;5;124m\"\u001b[39m \u001b[38;5;124m\"\u001b[39m\u001b[38;5;124m * * \u001b[39m\u001b[38;5;130;01m\\n\u001b[39;00m\u001b[38;5;124m\"\u001b[39m \u001b[38;5;124m\"\u001b[39m\u001b[38;5;124m* * *\u001b[39m\u001b[38;5;130;01m\\n\u001b[39;00m\u001b[38;5;124m\"\u001b[39m \u001b[38;5;124m\"\u001b[39m\u001b[38;5;124m * * \u001b[39m\u001b[38;5;130;01m\\n\u001b[39;00m\u001b[38;5;124m\"\u001b[39m\n\u001b[1;32m      3\u001b[0m board_of_10 \u001b[38;5;241m=\u001b[39m (\n\u001b[1;32m      4\u001b[0m     \u001b[38;5;124m\"\u001b[39m\u001b[38;5;124m * * * * *\u001b[39m\u001b[38;5;130;01m\\n\u001b[39;00m\u001b[38;5;124m\"\u001b[39m\n\u001b[1;32m      5\u001b[0m     \u001b[38;5;124m\"\u001b[39m\u001b[38;5;124m* * * * * \u001b[39m\u001b[38;5;130;01m\\n\u001b[39;00m\u001b[38;5;124m\"\u001b[39m\n\u001b[0;32m   (...)\u001b[0m\n\u001b[1;32m     13\u001b[0m     \u001b[38;5;124m\"\u001b[39m\u001b[38;5;124m* * * * * \u001b[39m\u001b[38;5;130;01m\\n\u001b[39;00m\u001b[38;5;124m\"\u001b[39m\n\u001b[1;32m     14\u001b[0m )\n\u001b[0;32m---> 16\u001b[0m \u001b[38;5;28;01massert\u001b[39;00m get_playing_board(\u001b[38;5;241m5\u001b[39m) \u001b[38;5;241m==\u001b[39m board_of_5\n\u001b[1;32m     17\u001b[0m \u001b[38;5;28;01massert\u001b[39;00m get_playing_board(\u001b[38;5;241m10\u001b[39m) \u001b[38;5;241m==\u001b[39m board_of_10\n\u001b[1;32m     19\u001b[0m \u001b[38;5;28mprint\u001b[39m(get_playing_board(\u001b[38;5;241m50\u001b[39m))\n",
      "\u001b[0;31mAssertionError\u001b[0m: "
     ]
    }
   ],
   "source": [
    "board_of_5 = \" * * \\n\" \"* * *\\n\" \" * * \\n\" \"* * *\\n\" \" * * \\n\"\n",
    "\n",
    "board_of_10 = (\n",
    "    \" * * * * *\\n\"\n",
    "    \"* * * * * \\n\"\n",
    "    \" * * * * *\\n\"\n",
    "    \"* * * * * \\n\"\n",
    "    \" * * * * *\\n\"\n",
    "    \"* * * * * \\n\"\n",
    "    \" * * * * *\\n\"\n",
    "    \"* * * * * \\n\"\n",
    "    \" * * * * *\\n\"\n",
    "    \"* * * * * \\n\"\n",
    ")\n",
    "\n",
    "assert get_playing_board(5) == board_of_5\n",
    "assert get_playing_board(10) == board_of_10\n",
    "\n",
    "print(get_playing_board(50))"
   ]
  }
 ],
 "metadata": {
  "kernelspec": {
   "display_name": "Python 3 (ipykernel)",
   "language": "python",
   "name": "python3"
  },
  "language_info": {
   "codemirror_mode": {
    "name": "ipython",
    "version": 3
   },
   "file_extension": ".py",
   "mimetype": "text/x-python",
   "name": "python",
   "nbconvert_exporter": "python",
   "pygments_lexer": "ipython3",
   "version": "3.10.13"
  }
 },
 "nbformat": 4,
 "nbformat_minor": 2
}
